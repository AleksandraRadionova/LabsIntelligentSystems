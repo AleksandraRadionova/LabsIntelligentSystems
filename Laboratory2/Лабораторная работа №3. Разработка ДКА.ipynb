{
  "nbformat": 4,
  "nbformat_minor": 0,
  "metadata": {
    "colab": {
      "provenance": []
    },
    "kernelspec": {
      "name": "python3",
      "display_name": "Python 3"
    },
    "language_info": {
      "name": "python"
    }
  },
  "cells": [
    {
      "cell_type": "code",
      "source": [
        "class InvalidFloorError(Exception):\n",
        "    pass\n",
        "\n",
        "class ElevatorChooser:\n",
        "    def __init__(self):\n",
        "        self.elevator1_state = []\n",
        "        self.elevator2_state = []\n",
        "\n",
        "    def choose_elevator(self, pickup_floor, elevator1_floor, elevator2_floor):\n",
        "        distances = [\n",
        "            (abs(elevator1_floor - pickup_floor), 1),\n",
        "            (abs(elevator2_floor - pickup_floor), 2)\n",
        "        ]\n",
        "        return min(distances, key=lambda x: x[0])[1]\n",
        "\n",
        "class Elevator:\n",
        "    def __init__(self, num_floors, start_floor, elevator_id):\n",
        "        self.num_floors = num_floors\n",
        "        self.requests = []\n",
        "        self.stack = []\n",
        "        self.current_floor = start_floor\n",
        "        self.elevator_id = elevator_id\n",
        "\n",
        "    def check_floor(self, floor):\n",
        "        self.valid_floors = {floor: floor for floor in range(1, num_floors + 1)}\n",
        "        try:\n",
        "          return self.valid_floors[floor]\n",
        "        except KeyError:\n",
        "          raise InvalidFloorError(f\"Этаж {floor} недопустим\")\n",
        "\n",
        "\n",
        "    def load_request(self, pickup_floor, destination_floor):\n",
        "        pickup_floor = self.check_floor(pickup_floor)\n",
        "        destination_floor = self.check_floor(destination_floor)\n",
        "        self.stack.append((pickup_floor, destination_floor))\n",
        "\n",
        "    def pick_up(self):\n",
        "        pickup_floor, destination_floor = self.stack.pop(0)\n",
        "        self.move(pickup_floor)\n",
        "        print(f\"Лифт {self.elevator_id}: Забрали пассажира на этаже {pickup_floor}\")\n",
        "        self.move(destination_floor)\n",
        "        print(f\"Лифт {self.elevator_id}: Доставили пассажира на этаж {destination_floor}\")\n",
        "\n",
        "    def move(self, target_floor):\n",
        "        distance = abs(target_floor - self.current_floor)\n",
        "        movement = (target_floor - self.current_floor) // (distance or 1)\n",
        "        for _ in range(distance):\n",
        "            self.current_floor += movement\n",
        "            print(f\"Лифт {self.elevator_id} на этаже {self.current_floor}\")\n",
        "\n",
        "    def run(self):\n",
        "        while self.stack:\n",
        "            self.pick_up()\n",
        "\n",
        "class ElevatorSystem:\n",
        "    def __init__(self, num_floors, elevator1_start_floor, elevator2_start_floor, requests):\n",
        "        self.num_floors = num_floors\n",
        "        self.elevator1_start_floor = elevator1_start_floor\n",
        "        self.elevator2_start_floor = elevator2_start_floor\n",
        "        self.requests = requests\n",
        "        self.elevator_chooser = ElevatorChooser()\n",
        "        self.elevator1 = Elevator(num_floors, elevator1_start_floor, 1)\n",
        "        self.elevator2 = Elevator(num_floors, elevator2_start_floor, 2)\n",
        "        self.elevators = {1: self.elevator1, 2: self.elevator2}\n",
        "\n",
        "    def process_requests(self):\n",
        "        while self.requests:\n",
        "            pickup_floor, destination_floor = self.requests.pop(0)\n",
        "            print(f\"\\nОбработка запроса: забрать с этажа {pickup_floor}, доставить на этаж {destination_floor}\")\n",
        "            chosen_elevator = self.elevator_chooser.choose_elevator(pickup_floor, self.elevator1.current_floor, self.elevator2.current_floor)\n",
        "            print(f\"Выбран лифт {chosen_elevator} для подъема пассажира.\")\n",
        "            self.elevators[chosen_elevator].load_request(pickup_floor, destination_floor)\n",
        "            self.elevators[chosen_elevator].run()\n",
        "\n",
        "        print(\"\\nЗавершено выполнение всех запросов.\")\n",
        "        print(f\"Текущее положение лифтов: Лифт 1 - этаж {self.elevator1.current_floor}, Лифт 2 - этаж {self.elevator2.current_floor}\")\n",
        "\n",
        "num_floors = 5\n",
        "elevator1_start_floor = 1\n",
        "elevator2_start_floor = 3\n",
        "requests = [(1, 3), (2, 5), (3, 1)]\n",
        "\n",
        "elevator_system = ElevatorSystem(num_floors, elevator1_start_floor, elevator2_start_floor, requests)\n",
        "elevator_system.process_requests()"
      ],
      "metadata": {
        "colab": {
          "base_uri": "https://localhost:8080/"
        },
        "id": "zpmxEfkwKwEi",
        "outputId": "d5907fdb-0c5d-4a16-cc0b-6036f51cc346"
      },
      "execution_count": 5,
      "outputs": [
        {
          "output_type": "stream",
          "name": "stdout",
          "text": [
            "\n",
            "Обработка запроса: забрать с этажа 1, доставить на этаж 3\n",
            "Выбран лифт 1 для подъема пассажира.\n",
            "Лифт 1: Забрали пассажира на этаже 1\n",
            "Лифт 1 на этаже 2\n",
            "Лифт 1 на этаже 3\n",
            "Лифт 1: Доставили пассажира на этаж 3\n",
            "\n",
            "Обработка запроса: забрать с этажа 2, доставить на этаж 5\n",
            "Выбран лифт 1 для подъема пассажира.\n",
            "Лифт 1 на этаже 2\n",
            "Лифт 1: Забрали пассажира на этаже 2\n",
            "Лифт 1 на этаже 3\n",
            "Лифт 1 на этаже 4\n",
            "Лифт 1 на этаже 5\n",
            "Лифт 1: Доставили пассажира на этаж 5\n",
            "\n",
            "Обработка запроса: забрать с этажа 3, доставить на этаж 1\n",
            "Выбран лифт 2 для подъема пассажира.\n",
            "Лифт 2: Забрали пассажира на этаже 3\n",
            "Лифт 2 на этаже 2\n",
            "Лифт 2 на этаже 1\n",
            "Лифт 2: Доставили пассажира на этаж 1\n",
            "\n",
            "Завершено выполнение всех запросов.\n",
            "Текущее положение лифтов: Лифт 1 - этаж 5, Лифт 2 - этаж 1\n"
          ]
        }
      ]
    },
    {
      "cell_type": "code",
      "source": [],
      "metadata": {
        "id": "6-FXDYioKyxl"
      },
      "execution_count": null,
      "outputs": []
    }
  ]
}